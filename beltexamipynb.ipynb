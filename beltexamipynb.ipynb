{
  "nbformat": 4,
  "nbformat_minor": 0,
  "metadata": {
    "colab": {
      "provenance": [],
      "authorship_tag": "ABX9TyN2UpGzN49gpdQioPGaqGAg",
      "include_colab_link": true
    },
    "kernelspec": {
      "name": "python3",
      "display_name": "Python 3"
    },
    "language_info": {
      "name": "python"
    }
  },
  "cells": [
    {
      "cell_type": "markdown",
      "metadata": {
        "id": "view-in-github",
        "colab_type": "text"
      },
      "source": [
        "<a href=\"https://colab.research.google.com/github/Tonyosa/sales-prediction2/blob/main/beltexamipynb.ipynb\" target=\"_parent\"><img src=\"https://colab.research.google.com/assets/colab-badge.svg\" alt=\"Open In Colab\"/></a>"
      ]
    },
    {
      "cell_type": "markdown",
      "source": [
        "## *George Osadchenko* \n",
        "Belt Exam 1\n",
        "\n",
        "10/07/2022"
      ],
      "metadata": {
        "id": "U_hnV3fW9uM5"
      }
    },
    {
      "cell_type": "code",
      "execution_count": 1,
      "metadata": {
        "id": "yaUOAWrNq1td"
      },
      "outputs": [],
      "source": [
        "import pandas as pd\n",
        "import numpy as np\n",
        "import matplotlib.pyplot as plt\n",
        "import seaborn as sns"
      ]
    },
    {
      "cell_type": "code",
      "source": [
        "df = pd.read_csv(\"/content/Mod_auto-insurance-complaint-rankings - Temp auto-insurance-complaint-rankings.csv\")\n",
        "df.head()"
      ],
      "metadata": {
        "colab": {
          "base_uri": "https://localhost:8080/",
          "height": 206
        },
        "id": "lgzuLXFerPm6",
        "outputId": "d7d7e2f5-ec50-4705-9f3d-6d74bd6b0fa6"
      },
      "execution_count": 2,
      "outputs": [
        {
          "output_type": "execute_result",
          "data": {
            "text/plain": [
              "   Unnamed: 0   NAIC                             Company Name  Ratio  \\\n",
              "0           0  32786  Progressive Specialty Insurance Company    0.0   \n",
              "1           1  19976           Amica Mutual Insurance Company    0.0   \n",
              "2           2  25453  Nationwide Insurance Company of America    0.0   \n",
              "3           3  15024       Preferred Mutual Insurance Company    0.0   \n",
              "4           4  10052         Chubb National Insurance Company    0.0   \n",
              "\n",
              "   Upheld Complaints Question of Fact Complaints  Not Upheld Complaints  \\\n",
              "0                0.0                          17                     29   \n",
              "1                0.0                           9                      8   \n",
              "2                0.0                           9                      4   \n",
              "3                0.0                           3                      2   \n",
              "4                0.0                           1                      2   \n",
              "\n",
              "  Total Complaints  Premiums Written (in Millions)  Rank  Filing Year  \n",
              "0               46                         204.173     1         2016  \n",
              "1               17                          84.769     2         2016  \n",
              "2               13                          65.335     3         2016  \n",
              "3                5                          62.505     4         2016  \n",
              "4                3                          46.735     5         2016  "
            ],
            "text/html": [
              "\n",
              "  <div id=\"df-58981b50-64ea-41bd-b8ec-cb642afb4103\">\n",
              "    <div class=\"colab-df-container\">\n",
              "      <div>\n",
              "<style scoped>\n",
              "    .dataframe tbody tr th:only-of-type {\n",
              "        vertical-align: middle;\n",
              "    }\n",
              "\n",
              "    .dataframe tbody tr th {\n",
              "        vertical-align: top;\n",
              "    }\n",
              "\n",
              "    .dataframe thead th {\n",
              "        text-align: right;\n",
              "    }\n",
              "</style>\n",
              "<table border=\"1\" class=\"dataframe\">\n",
              "  <thead>\n",
              "    <tr style=\"text-align: right;\">\n",
              "      <th></th>\n",
              "      <th>Unnamed: 0</th>\n",
              "      <th>NAIC</th>\n",
              "      <th>Company Name</th>\n",
              "      <th>Ratio</th>\n",
              "      <th>Upheld Complaints</th>\n",
              "      <th>Question of Fact Complaints</th>\n",
              "      <th>Not Upheld Complaints</th>\n",
              "      <th>Total Complaints</th>\n",
              "      <th>Premiums Written (in Millions)</th>\n",
              "      <th>Rank</th>\n",
              "      <th>Filing Year</th>\n",
              "    </tr>\n",
              "  </thead>\n",
              "  <tbody>\n",
              "    <tr>\n",
              "      <th>0</th>\n",
              "      <td>0</td>\n",
              "      <td>32786</td>\n",
              "      <td>Progressive Specialty Insurance Company</td>\n",
              "      <td>0.0</td>\n",
              "      <td>0.0</td>\n",
              "      <td>17</td>\n",
              "      <td>29</td>\n",
              "      <td>46</td>\n",
              "      <td>204.173</td>\n",
              "      <td>1</td>\n",
              "      <td>2016</td>\n",
              "    </tr>\n",
              "    <tr>\n",
              "      <th>1</th>\n",
              "      <td>1</td>\n",
              "      <td>19976</td>\n",
              "      <td>Amica Mutual Insurance Company</td>\n",
              "      <td>0.0</td>\n",
              "      <td>0.0</td>\n",
              "      <td>9</td>\n",
              "      <td>8</td>\n",
              "      <td>17</td>\n",
              "      <td>84.769</td>\n",
              "      <td>2</td>\n",
              "      <td>2016</td>\n",
              "    </tr>\n",
              "    <tr>\n",
              "      <th>2</th>\n",
              "      <td>2</td>\n",
              "      <td>25453</td>\n",
              "      <td>Nationwide Insurance Company of America</td>\n",
              "      <td>0.0</td>\n",
              "      <td>0.0</td>\n",
              "      <td>9</td>\n",
              "      <td>4</td>\n",
              "      <td>13</td>\n",
              "      <td>65.335</td>\n",
              "      <td>3</td>\n",
              "      <td>2016</td>\n",
              "    </tr>\n",
              "    <tr>\n",
              "      <th>3</th>\n",
              "      <td>3</td>\n",
              "      <td>15024</td>\n",
              "      <td>Preferred Mutual Insurance Company</td>\n",
              "      <td>0.0</td>\n",
              "      <td>0.0</td>\n",
              "      <td>3</td>\n",
              "      <td>2</td>\n",
              "      <td>5</td>\n",
              "      <td>62.505</td>\n",
              "      <td>4</td>\n",
              "      <td>2016</td>\n",
              "    </tr>\n",
              "    <tr>\n",
              "      <th>4</th>\n",
              "      <td>4</td>\n",
              "      <td>10052</td>\n",
              "      <td>Chubb National Insurance Company</td>\n",
              "      <td>0.0</td>\n",
              "      <td>0.0</td>\n",
              "      <td>1</td>\n",
              "      <td>2</td>\n",
              "      <td>3</td>\n",
              "      <td>46.735</td>\n",
              "      <td>5</td>\n",
              "      <td>2016</td>\n",
              "    </tr>\n",
              "  </tbody>\n",
              "</table>\n",
              "</div>\n",
              "      <button class=\"colab-df-convert\" onclick=\"convertToInteractive('df-58981b50-64ea-41bd-b8ec-cb642afb4103')\"\n",
              "              title=\"Convert this dataframe to an interactive table.\"\n",
              "              style=\"display:none;\">\n",
              "        \n",
              "  <svg xmlns=\"http://www.w3.org/2000/svg\" height=\"24px\"viewBox=\"0 0 24 24\"\n",
              "       width=\"24px\">\n",
              "    <path d=\"M0 0h24v24H0V0z\" fill=\"none\"/>\n",
              "    <path d=\"M18.56 5.44l.94 2.06.94-2.06 2.06-.94-2.06-.94-.94-2.06-.94 2.06-2.06.94zm-11 1L8.5 8.5l.94-2.06 2.06-.94-2.06-.94L8.5 2.5l-.94 2.06-2.06.94zm10 10l.94 2.06.94-2.06 2.06-.94-2.06-.94-.94-2.06-.94 2.06-2.06.94z\"/><path d=\"M17.41 7.96l-1.37-1.37c-.4-.4-.92-.59-1.43-.59-.52 0-1.04.2-1.43.59L10.3 9.45l-7.72 7.72c-.78.78-.78 2.05 0 2.83L4 21.41c.39.39.9.59 1.41.59.51 0 1.02-.2 1.41-.59l7.78-7.78 2.81-2.81c.8-.78.8-2.07 0-2.86zM5.41 20L4 18.59l7.72-7.72 1.47 1.35L5.41 20z\"/>\n",
              "  </svg>\n",
              "      </button>\n",
              "      \n",
              "  <style>\n",
              "    .colab-df-container {\n",
              "      display:flex;\n",
              "      flex-wrap:wrap;\n",
              "      gap: 12px;\n",
              "    }\n",
              "\n",
              "    .colab-df-convert {\n",
              "      background-color: #E8F0FE;\n",
              "      border: none;\n",
              "      border-radius: 50%;\n",
              "      cursor: pointer;\n",
              "      display: none;\n",
              "      fill: #1967D2;\n",
              "      height: 32px;\n",
              "      padding: 0 0 0 0;\n",
              "      width: 32px;\n",
              "    }\n",
              "\n",
              "    .colab-df-convert:hover {\n",
              "      background-color: #E2EBFA;\n",
              "      box-shadow: 0px 1px 2px rgba(60, 64, 67, 0.3), 0px 1px 3px 1px rgba(60, 64, 67, 0.15);\n",
              "      fill: #174EA6;\n",
              "    }\n",
              "\n",
              "    [theme=dark] .colab-df-convert {\n",
              "      background-color: #3B4455;\n",
              "      fill: #D2E3FC;\n",
              "    }\n",
              "\n",
              "    [theme=dark] .colab-df-convert:hover {\n",
              "      background-color: #434B5C;\n",
              "      box-shadow: 0px 1px 3px 1px rgba(0, 0, 0, 0.15);\n",
              "      filter: drop-shadow(0px 1px 2px rgba(0, 0, 0, 0.3));\n",
              "      fill: #FFFFFF;\n",
              "    }\n",
              "  </style>\n",
              "\n",
              "      <script>\n",
              "        const buttonEl =\n",
              "          document.querySelector('#df-58981b50-64ea-41bd-b8ec-cb642afb4103 button.colab-df-convert');\n",
              "        buttonEl.style.display =\n",
              "          google.colab.kernel.accessAllowed ? 'block' : 'none';\n",
              "\n",
              "        async function convertToInteractive(key) {\n",
              "          const element = document.querySelector('#df-58981b50-64ea-41bd-b8ec-cb642afb4103');\n",
              "          const dataTable =\n",
              "            await google.colab.kernel.invokeFunction('convertToInteractive',\n",
              "                                                     [key], {});\n",
              "          if (!dataTable) return;\n",
              "\n",
              "          const docLinkHtml = 'Like what you see? Visit the ' +\n",
              "            '<a target=\"_blank\" href=https://colab.research.google.com/notebooks/data_table.ipynb>data table notebook</a>'\n",
              "            + ' to learn more about interactive tables.';\n",
              "          element.innerHTML = '';\n",
              "          dataTable['output_type'] = 'display_data';\n",
              "          await google.colab.output.renderOutput(dataTable, element);\n",
              "          const docLink = document.createElement('div');\n",
              "          docLink.innerHTML = docLinkHtml;\n",
              "          element.appendChild(docLink);\n",
              "        }\n",
              "      </script>\n",
              "    </div>\n",
              "  </div>\n",
              "  "
            ]
          },
          "metadata": {},
          "execution_count": 2
        }
      ]
    },
    {
      "cell_type": "markdown",
      "source": [
        "Loading all the data and checking for duplicates and missing values."
      ],
      "metadata": {
        "id": "PulhTgsRtCqE"
      }
    },
    {
      "cell_type": "code",
      "source": [
        "df.dtypes"
      ],
      "metadata": {
        "colab": {
          "base_uri": "https://localhost:8080/"
        },
        "id": "bw3pxea9uhKO",
        "outputId": "96532a86-f0f3-4927-c340-a147233af492"
      },
      "execution_count": 3,
      "outputs": [
        {
          "output_type": "execute_result",
          "data": {
            "text/plain": [
              "Unnamed: 0                          int64\n",
              "NAIC                                int64\n",
              "Company Name                       object\n",
              "Ratio                             float64\n",
              "Upheld Complaints                 float64\n",
              "Question of Fact Complaints        object\n",
              "Not Upheld Complaints               int64\n",
              "Total Complaints                   object\n",
              "Premiums Written (in Millions)    float64\n",
              "Rank                                int64\n",
              "Filing Year                         int64\n",
              "dtype: object"
            ]
          },
          "metadata": {},
          "execution_count": 3
        }
      ]
    },
    {
      "cell_type": "code",
      "source": [
        "df.info\n"
      ],
      "metadata": {
        "colab": {
          "base_uri": "https://localhost:8080/"
        },
        "id": "-GUb6FMnrWez",
        "outputId": "e6d1e0c3-536a-4042-9e98-6acd90fcab30"
      },
      "execution_count": 4,
      "outputs": [
        {
          "output_type": "execute_result",
          "data": {
            "text/plain": [
              "<bound method DataFrame.info of       Unnamed: 0   NAIC                             Company Name     Ratio  \\\n",
              "0              0  32786  Progressive Specialty Insurance Company    0.0000   \n",
              "1              1  19976           Amica Mutual Insurance Company    0.0000   \n",
              "2              2  25453  Nationwide Insurance Company of America    0.0000   \n",
              "3              3  15024       Preferred Mutual Insurance Company    0.0000   \n",
              "4              4  10052         Chubb National Insurance Company    0.0000   \n",
              "...          ...    ...                                      ...       ...   \n",
              "1358        1353  22667           ACE American Insurance Company   12.5881   \n",
              "1359        1354  23809          Granite State Insurance Company   14.2471   \n",
              "1360        1355  10982            Long Island Insurance Company   25.8860   \n",
              "1361        1356  16535        Zurich American Insurance Company   36.5845   \n",
              "1362        1357  42889         Victoria Fire & Casualty Company  152.9403   \n",
              "\n",
              "      Upheld Complaints Question of Fact Complaints  Not Upheld Complaints  \\\n",
              "0                   0.0                          17                     29   \n",
              "1                   0.0                           9                      8   \n",
              "2                   0.0                           9                      4   \n",
              "3                   0.0                           3                      2   \n",
              "4                   0.0                           1                      2   \n",
              "...                 ...                         ...                    ...   \n",
              "1358                1.0                           0                      3   \n",
              "1359                1.0                           0                      0   \n",
              "1360              265.0                          17                     73   \n",
              "1361                1.0                           0                      1   \n",
              "1362                1.0                           1                      1   \n",
              "\n",
              "     Total Complaints  Premiums Written (in Millions)  Rank  Filing Year  \n",
              "0                  46                         204.173     1         2016  \n",
              "1                  17                          84.769     2         2016  \n",
              "2                  13                          65.335     3         2016  \n",
              "3                   5                          62.505     4         2016  \n",
              "4                   3                          46.735     5         2016  \n",
              "...               ...                             ...   ...          ...  \n",
              "1358                4                           0.079   177         2009  \n",
              "1359                1                           0.070   178         2009  \n",
              "1360              355                          10.237   179         2009  \n",
              "1361                2                           0.027   180         2009  \n",
              "1362                3                           0.007   181         2009  \n",
              "\n",
              "[1363 rows x 11 columns]>"
            ]
          },
          "metadata": {},
          "execution_count": 4
        }
      ]
    },
    {
      "cell_type": "code",
      "source": [
        "print(len(df.columns))"
      ],
      "metadata": {
        "colab": {
          "base_uri": "https://localhost:8080/"
        },
        "id": "Mi2JkMYU0VUK",
        "outputId": "47674025-b711-4a2e-b3d6-5d9bba598a5d"
      },
      "execution_count": 5,
      "outputs": [
        {
          "output_type": "stream",
          "name": "stdout",
          "text": [
            "11\n"
          ]
        }
      ]
    },
    {
      "cell_type": "code",
      "source": [
        "print(len(df))"
      ],
      "metadata": {
        "colab": {
          "base_uri": "https://localhost:8080/"
        },
        "id": "BFpGMhaQ0VR7",
        "outputId": "57e84929-0b87-44e3-9a30-4faeba76f7f6"
      },
      "execution_count": 6,
      "outputs": [
        {
          "output_type": "stream",
          "name": "stdout",
          "text": [
            "1363\n"
          ]
        }
      ]
    },
    {
      "cell_type": "code",
      "source": [
        "df.info()"
      ],
      "metadata": {
        "colab": {
          "base_uri": "https://localhost:8080/"
        },
        "id": "Ny5wu1cs0VPx",
        "outputId": "d36526fa-129f-4605-9c19-3d6d12190d2f"
      },
      "execution_count": 7,
      "outputs": [
        {
          "output_type": "stream",
          "name": "stdout",
          "text": [
            "<class 'pandas.core.frame.DataFrame'>\n",
            "RangeIndex: 1363 entries, 0 to 1362\n",
            "Data columns (total 11 columns):\n",
            " #   Column                          Non-Null Count  Dtype  \n",
            "---  ------                          --------------  -----  \n",
            " 0   Unnamed: 0                      1363 non-null   int64  \n",
            " 1   NAIC                            1363 non-null   int64  \n",
            " 2   Company Name                    1363 non-null   object \n",
            " 3   Ratio                           1363 non-null   float64\n",
            " 4   Upheld Complaints               1358 non-null   float64\n",
            " 5   Question of Fact Complaints     1363 non-null   object \n",
            " 6   Not Upheld Complaints           1363 non-null   int64  \n",
            " 7   Total Complaints                1363 non-null   object \n",
            " 8   Premiums Written (in Millions)  1363 non-null   float64\n",
            " 9   Rank                            1363 non-null   int64  \n",
            " 10  Filing Year                     1363 non-null   int64  \n",
            "dtypes: float64(3), int64(5), object(3)\n",
            "memory usage: 117.3+ KB\n"
          ]
        }
      ]
    },
    {
      "cell_type": "code",
      "source": [
        "df.isna().any()"
      ],
      "metadata": {
        "colab": {
          "base_uri": "https://localhost:8080/"
        },
        "id": "WcuPXEiI0VLQ",
        "outputId": "51d4d241-58dd-4df2-af67-5d27189d1bad"
      },
      "execution_count": 8,
      "outputs": [
        {
          "output_type": "execute_result",
          "data": {
            "text/plain": [
              "Unnamed: 0                        False\n",
              "NAIC                              False\n",
              "Company Name                      False\n",
              "Ratio                             False\n",
              "Upheld Complaints                  True\n",
              "Question of Fact Complaints       False\n",
              "Not Upheld Complaints             False\n",
              "Total Complaints                  False\n",
              "Premiums Written (in Millions)    False\n",
              "Rank                              False\n",
              "Filing Year                       False\n",
              "dtype: bool"
            ]
          },
          "metadata": {},
          "execution_count": 8
        }
      ]
    },
    {
      "cell_type": "code",
      "source": [
        "df.isnull().sum()"
      ],
      "metadata": {
        "colab": {
          "base_uri": "https://localhost:8080/"
        },
        "id": "oYEncrRl0VJM",
        "outputId": "1aabdd23-aa66-44d0-a254-5097f9c31d73"
      },
      "execution_count": 9,
      "outputs": [
        {
          "output_type": "execute_result",
          "data": {
            "text/plain": [
              "Unnamed: 0                        0\n",
              "NAIC                              0\n",
              "Company Name                      0\n",
              "Ratio                             0\n",
              "Upheld Complaints                 5\n",
              "Question of Fact Complaints       0\n",
              "Not Upheld Complaints             0\n",
              "Total Complaints                  0\n",
              "Premiums Written (in Millions)    0\n",
              "Rank                              0\n",
              "Filing Year                       0\n",
              "dtype: int64"
            ]
          },
          "metadata": {},
          "execution_count": 9
        }
      ]
    },
    {
      "cell_type": "code",
      "source": [
        "df.isnull().sum().sum()"
      ],
      "metadata": {
        "colab": {
          "base_uri": "https://localhost:8080/"
        },
        "id": "jkjyO3qJ0VHF",
        "outputId": "d267071a-35c8-4ad7-f056-31ee50f86d65"
      },
      "execution_count": 10,
      "outputs": [
        {
          "output_type": "execute_result",
          "data": {
            "text/plain": [
              "5"
            ]
          },
          "metadata": {},
          "execution_count": 10
        }
      ]
    },
    {
      "cell_type": "markdown",
      "source": [
        "After finding all the incorrect data I drop duplicates."
      ],
      "metadata": {
        "id": "wvqyLeXu1pz7"
      }
    },
    {
      "cell_type": "code",
      "source": [
        "df2 = df.drop_duplicates().sum()\n",
        "df"
      ],
      "metadata": {
        "colab": {
          "base_uri": "https://localhost:8080/",
          "height": 424
        },
        "id": "VLE7pgXb13lf",
        "outputId": "f545acd5-e702-4213-8d2b-2e92cfa62a5e"
      },
      "execution_count": 11,
      "outputs": [
        {
          "output_type": "execute_result",
          "data": {
            "text/plain": [
              "      Unnamed: 0   NAIC                             Company Name     Ratio  \\\n",
              "0              0  32786  Progressive Specialty Insurance Company    0.0000   \n",
              "1              1  19976           Amica Mutual Insurance Company    0.0000   \n",
              "2              2  25453  Nationwide Insurance Company of America    0.0000   \n",
              "3              3  15024       Preferred Mutual Insurance Company    0.0000   \n",
              "4              4  10052         Chubb National Insurance Company    0.0000   \n",
              "...          ...    ...                                      ...       ...   \n",
              "1358        1353  22667           ACE American Insurance Company   12.5881   \n",
              "1359        1354  23809          Granite State Insurance Company   14.2471   \n",
              "1360        1355  10982            Long Island Insurance Company   25.8860   \n",
              "1361        1356  16535        Zurich American Insurance Company   36.5845   \n",
              "1362        1357  42889         Victoria Fire & Casualty Company  152.9403   \n",
              "\n",
              "      Upheld Complaints Question of Fact Complaints  Not Upheld Complaints  \\\n",
              "0                   0.0                          17                     29   \n",
              "1                   0.0                           9                      8   \n",
              "2                   0.0                           9                      4   \n",
              "3                   0.0                           3                      2   \n",
              "4                   0.0                           1                      2   \n",
              "...                 ...                         ...                    ...   \n",
              "1358                1.0                           0                      3   \n",
              "1359                1.0                           0                      0   \n",
              "1360              265.0                          17                     73   \n",
              "1361                1.0                           0                      1   \n",
              "1362                1.0                           1                      1   \n",
              "\n",
              "     Total Complaints  Premiums Written (in Millions)  Rank  Filing Year  \n",
              "0                  46                         204.173     1         2016  \n",
              "1                  17                          84.769     2         2016  \n",
              "2                  13                          65.335     3         2016  \n",
              "3                   5                          62.505     4         2016  \n",
              "4                   3                          46.735     5         2016  \n",
              "...               ...                             ...   ...          ...  \n",
              "1358                4                           0.079   177         2009  \n",
              "1359                1                           0.070   178         2009  \n",
              "1360              355                          10.237   179         2009  \n",
              "1361                2                           0.027   180         2009  \n",
              "1362                3                           0.007   181         2009  \n",
              "\n",
              "[1363 rows x 11 columns]"
            ],
            "text/html": [
              "\n",
              "  <div id=\"df-40558829-614a-4f3f-994d-2f55c6c75c2c\">\n",
              "    <div class=\"colab-df-container\">\n",
              "      <div>\n",
              "<style scoped>\n",
              "    .dataframe tbody tr th:only-of-type {\n",
              "        vertical-align: middle;\n",
              "    }\n",
              "\n",
              "    .dataframe tbody tr th {\n",
              "        vertical-align: top;\n",
              "    }\n",
              "\n",
              "    .dataframe thead th {\n",
              "        text-align: right;\n",
              "    }\n",
              "</style>\n",
              "<table border=\"1\" class=\"dataframe\">\n",
              "  <thead>\n",
              "    <tr style=\"text-align: right;\">\n",
              "      <th></th>\n",
              "      <th>Unnamed: 0</th>\n",
              "      <th>NAIC</th>\n",
              "      <th>Company Name</th>\n",
              "      <th>Ratio</th>\n",
              "      <th>Upheld Complaints</th>\n",
              "      <th>Question of Fact Complaints</th>\n",
              "      <th>Not Upheld Complaints</th>\n",
              "      <th>Total Complaints</th>\n",
              "      <th>Premiums Written (in Millions)</th>\n",
              "      <th>Rank</th>\n",
              "      <th>Filing Year</th>\n",
              "    </tr>\n",
              "  </thead>\n",
              "  <tbody>\n",
              "    <tr>\n",
              "      <th>0</th>\n",
              "      <td>0</td>\n",
              "      <td>32786</td>\n",
              "      <td>Progressive Specialty Insurance Company</td>\n",
              "      <td>0.0000</td>\n",
              "      <td>0.0</td>\n",
              "      <td>17</td>\n",
              "      <td>29</td>\n",
              "      <td>46</td>\n",
              "      <td>204.173</td>\n",
              "      <td>1</td>\n",
              "      <td>2016</td>\n",
              "    </tr>\n",
              "    <tr>\n",
              "      <th>1</th>\n",
              "      <td>1</td>\n",
              "      <td>19976</td>\n",
              "      <td>Amica Mutual Insurance Company</td>\n",
              "      <td>0.0000</td>\n",
              "      <td>0.0</td>\n",
              "      <td>9</td>\n",
              "      <td>8</td>\n",
              "      <td>17</td>\n",
              "      <td>84.769</td>\n",
              "      <td>2</td>\n",
              "      <td>2016</td>\n",
              "    </tr>\n",
              "    <tr>\n",
              "      <th>2</th>\n",
              "      <td>2</td>\n",
              "      <td>25453</td>\n",
              "      <td>Nationwide Insurance Company of America</td>\n",
              "      <td>0.0000</td>\n",
              "      <td>0.0</td>\n",
              "      <td>9</td>\n",
              "      <td>4</td>\n",
              "      <td>13</td>\n",
              "      <td>65.335</td>\n",
              "      <td>3</td>\n",
              "      <td>2016</td>\n",
              "    </tr>\n",
              "    <tr>\n",
              "      <th>3</th>\n",
              "      <td>3</td>\n",
              "      <td>15024</td>\n",
              "      <td>Preferred Mutual Insurance Company</td>\n",
              "      <td>0.0000</td>\n",
              "      <td>0.0</td>\n",
              "      <td>3</td>\n",
              "      <td>2</td>\n",
              "      <td>5</td>\n",
              "      <td>62.505</td>\n",
              "      <td>4</td>\n",
              "      <td>2016</td>\n",
              "    </tr>\n",
              "    <tr>\n",
              "      <th>4</th>\n",
              "      <td>4</td>\n",
              "      <td>10052</td>\n",
              "      <td>Chubb National Insurance Company</td>\n",
              "      <td>0.0000</td>\n",
              "      <td>0.0</td>\n",
              "      <td>1</td>\n",
              "      <td>2</td>\n",
              "      <td>3</td>\n",
              "      <td>46.735</td>\n",
              "      <td>5</td>\n",
              "      <td>2016</td>\n",
              "    </tr>\n",
              "    <tr>\n",
              "      <th>...</th>\n",
              "      <td>...</td>\n",
              "      <td>...</td>\n",
              "      <td>...</td>\n",
              "      <td>...</td>\n",
              "      <td>...</td>\n",
              "      <td>...</td>\n",
              "      <td>...</td>\n",
              "      <td>...</td>\n",
              "      <td>...</td>\n",
              "      <td>...</td>\n",
              "      <td>...</td>\n",
              "    </tr>\n",
              "    <tr>\n",
              "      <th>1358</th>\n",
              "      <td>1353</td>\n",
              "      <td>22667</td>\n",
              "      <td>ACE American Insurance Company</td>\n",
              "      <td>12.5881</td>\n",
              "      <td>1.0</td>\n",
              "      <td>0</td>\n",
              "      <td>3</td>\n",
              "      <td>4</td>\n",
              "      <td>0.079</td>\n",
              "      <td>177</td>\n",
              "      <td>2009</td>\n",
              "    </tr>\n",
              "    <tr>\n",
              "      <th>1359</th>\n",
              "      <td>1354</td>\n",
              "      <td>23809</td>\n",
              "      <td>Granite State Insurance Company</td>\n",
              "      <td>14.2471</td>\n",
              "      <td>1.0</td>\n",
              "      <td>0</td>\n",
              "      <td>0</td>\n",
              "      <td>1</td>\n",
              "      <td>0.070</td>\n",
              "      <td>178</td>\n",
              "      <td>2009</td>\n",
              "    </tr>\n",
              "    <tr>\n",
              "      <th>1360</th>\n",
              "      <td>1355</td>\n",
              "      <td>10982</td>\n",
              "      <td>Long Island Insurance Company</td>\n",
              "      <td>25.8860</td>\n",
              "      <td>265.0</td>\n",
              "      <td>17</td>\n",
              "      <td>73</td>\n",
              "      <td>355</td>\n",
              "      <td>10.237</td>\n",
              "      <td>179</td>\n",
              "      <td>2009</td>\n",
              "    </tr>\n",
              "    <tr>\n",
              "      <th>1361</th>\n",
              "      <td>1356</td>\n",
              "      <td>16535</td>\n",
              "      <td>Zurich American Insurance Company</td>\n",
              "      <td>36.5845</td>\n",
              "      <td>1.0</td>\n",
              "      <td>0</td>\n",
              "      <td>1</td>\n",
              "      <td>2</td>\n",
              "      <td>0.027</td>\n",
              "      <td>180</td>\n",
              "      <td>2009</td>\n",
              "    </tr>\n",
              "    <tr>\n",
              "      <th>1362</th>\n",
              "      <td>1357</td>\n",
              "      <td>42889</td>\n",
              "      <td>Victoria Fire &amp; Casualty Company</td>\n",
              "      <td>152.9403</td>\n",
              "      <td>1.0</td>\n",
              "      <td>1</td>\n",
              "      <td>1</td>\n",
              "      <td>3</td>\n",
              "      <td>0.007</td>\n",
              "      <td>181</td>\n",
              "      <td>2009</td>\n",
              "    </tr>\n",
              "  </tbody>\n",
              "</table>\n",
              "<p>1363 rows × 11 columns</p>\n",
              "</div>\n",
              "      <button class=\"colab-df-convert\" onclick=\"convertToInteractive('df-40558829-614a-4f3f-994d-2f55c6c75c2c')\"\n",
              "              title=\"Convert this dataframe to an interactive table.\"\n",
              "              style=\"display:none;\">\n",
              "        \n",
              "  <svg xmlns=\"http://www.w3.org/2000/svg\" height=\"24px\"viewBox=\"0 0 24 24\"\n",
              "       width=\"24px\">\n",
              "    <path d=\"M0 0h24v24H0V0z\" fill=\"none\"/>\n",
              "    <path d=\"M18.56 5.44l.94 2.06.94-2.06 2.06-.94-2.06-.94-.94-2.06-.94 2.06-2.06.94zm-11 1L8.5 8.5l.94-2.06 2.06-.94-2.06-.94L8.5 2.5l-.94 2.06-2.06.94zm10 10l.94 2.06.94-2.06 2.06-.94-2.06-.94-.94-2.06-.94 2.06-2.06.94z\"/><path d=\"M17.41 7.96l-1.37-1.37c-.4-.4-.92-.59-1.43-.59-.52 0-1.04.2-1.43.59L10.3 9.45l-7.72 7.72c-.78.78-.78 2.05 0 2.83L4 21.41c.39.39.9.59 1.41.59.51 0 1.02-.2 1.41-.59l7.78-7.78 2.81-2.81c.8-.78.8-2.07 0-2.86zM5.41 20L4 18.59l7.72-7.72 1.47 1.35L5.41 20z\"/>\n",
              "  </svg>\n",
              "      </button>\n",
              "      \n",
              "  <style>\n",
              "    .colab-df-container {\n",
              "      display:flex;\n",
              "      flex-wrap:wrap;\n",
              "      gap: 12px;\n",
              "    }\n",
              "\n",
              "    .colab-df-convert {\n",
              "      background-color: #E8F0FE;\n",
              "      border: none;\n",
              "      border-radius: 50%;\n",
              "      cursor: pointer;\n",
              "      display: none;\n",
              "      fill: #1967D2;\n",
              "      height: 32px;\n",
              "      padding: 0 0 0 0;\n",
              "      width: 32px;\n",
              "    }\n",
              "\n",
              "    .colab-df-convert:hover {\n",
              "      background-color: #E2EBFA;\n",
              "      box-shadow: 0px 1px 2px rgba(60, 64, 67, 0.3), 0px 1px 3px 1px rgba(60, 64, 67, 0.15);\n",
              "      fill: #174EA6;\n",
              "    }\n",
              "\n",
              "    [theme=dark] .colab-df-convert {\n",
              "      background-color: #3B4455;\n",
              "      fill: #D2E3FC;\n",
              "    }\n",
              "\n",
              "    [theme=dark] .colab-df-convert:hover {\n",
              "      background-color: #434B5C;\n",
              "      box-shadow: 0px 1px 3px 1px rgba(0, 0, 0, 0.15);\n",
              "      filter: drop-shadow(0px 1px 2px rgba(0, 0, 0, 0.3));\n",
              "      fill: #FFFFFF;\n",
              "    }\n",
              "  </style>\n",
              "\n",
              "      <script>\n",
              "        const buttonEl =\n",
              "          document.querySelector('#df-40558829-614a-4f3f-994d-2f55c6c75c2c button.colab-df-convert');\n",
              "        buttonEl.style.display =\n",
              "          google.colab.kernel.accessAllowed ? 'block' : 'none';\n",
              "\n",
              "        async function convertToInteractive(key) {\n",
              "          const element = document.querySelector('#df-40558829-614a-4f3f-994d-2f55c6c75c2c');\n",
              "          const dataTable =\n",
              "            await google.colab.kernel.invokeFunction('convertToInteractive',\n",
              "                                                     [key], {});\n",
              "          if (!dataTable) return;\n",
              "\n",
              "          const docLinkHtml = 'Like what you see? Visit the ' +\n",
              "            '<a target=\"_blank\" href=https://colab.research.google.com/notebooks/data_table.ipynb>data table notebook</a>'\n",
              "            + ' to learn more about interactive tables.';\n",
              "          element.innerHTML = '';\n",
              "          dataTable['output_type'] = 'display_data';\n",
              "          await google.colab.output.renderOutput(dataTable, element);\n",
              "          const docLink = document.createElement('div');\n",
              "          docLink.innerHTML = docLinkHtml;\n",
              "          element.appendChild(docLink);\n",
              "        }\n",
              "      </script>\n",
              "    </div>\n",
              "  </div>\n",
              "  "
            ]
          },
          "metadata": {},
          "execution_count": 11
        }
      ]
    },
    {
      "cell_type": "code",
      "source": [
        "df.dropna(inplace=True)"
      ],
      "metadata": {
        "id": "RVGvFrhp0VEr"
      },
      "execution_count": 12,
      "outputs": []
    },
    {
      "cell_type": "markdown",
      "source": [
        "Here I chose to drop all of the missing values."
      ],
      "metadata": {
        "id": "3LsxrLEi2ngx"
      }
    },
    {
      "cell_type": "code",
      "source": [
        "df.isna().sum()"
      ],
      "metadata": {
        "colab": {
          "base_uri": "https://localhost:8080/"
        },
        "id": "4tVuNNlg0kMD",
        "outputId": "6646add2-dd27-4d16-e997-e1ea346575e4"
      },
      "execution_count": 13,
      "outputs": [
        {
          "output_type": "execute_result",
          "data": {
            "text/plain": [
              "Unnamed: 0                        0\n",
              "NAIC                              0\n",
              "Company Name                      0\n",
              "Ratio                             0\n",
              "Upheld Complaints                 0\n",
              "Question of Fact Complaints       0\n",
              "Not Upheld Complaints             0\n",
              "Total Complaints                  0\n",
              "Premiums Written (in Millions)    0\n",
              "Rank                              0\n",
              "Filing Year                       0\n",
              "dtype: int64"
            ]
          },
          "metadata": {},
          "execution_count": 13
        }
      ]
    },
    {
      "cell_type": "code",
      "source": [
        "print(df.isnull().sum())"
      ],
      "metadata": {
        "colab": {
          "base_uri": "https://localhost:8080/"
        },
        "id": "Px9MidFl0kJ4",
        "outputId": "b9697f22-806c-4b51-d982-bb50b99c0f5f"
      },
      "execution_count": 14,
      "outputs": [
        {
          "output_type": "stream",
          "name": "stdout",
          "text": [
            "Unnamed: 0                        0\n",
            "NAIC                              0\n",
            "Company Name                      0\n",
            "Ratio                             0\n",
            "Upheld Complaints                 0\n",
            "Question of Fact Complaints       0\n",
            "Not Upheld Complaints             0\n",
            "Total Complaints                  0\n",
            "Premiums Written (in Millions)    0\n",
            "Rank                              0\n",
            "Filing Year                       0\n",
            "dtype: int64\n"
          ]
        }
      ]
    },
    {
      "cell_type": "code",
      "source": [
        "print(df.isnull().sum().sum())"
      ],
      "metadata": {
        "colab": {
          "base_uri": "https://localhost:8080/"
        },
        "id": "KN1bt6AH0kHP",
        "outputId": "20dc1a57-5523-4711-d4ef-e357f201c320"
      },
      "execution_count": 15,
      "outputs": [
        {
          "output_type": "stream",
          "name": "stdout",
          "text": [
            "0\n"
          ]
        }
      ]
    },
    {
      "cell_type": "code",
      "source": [
        "df"
      ],
      "metadata": {
        "colab": {
          "base_uri": "https://localhost:8080/",
          "height": 424
        },
        "id": "ndyAGIYl0kFC",
        "outputId": "7b4baf7c-df8c-49df-85cc-9e370f3aaf2f"
      },
      "execution_count": 16,
      "outputs": [
        {
          "output_type": "execute_result",
          "data": {
            "text/plain": [
              "      Unnamed: 0   NAIC                             Company Name     Ratio  \\\n",
              "0              0  32786  Progressive Specialty Insurance Company    0.0000   \n",
              "1              1  19976           Amica Mutual Insurance Company    0.0000   \n",
              "2              2  25453  Nationwide Insurance Company of America    0.0000   \n",
              "3              3  15024       Preferred Mutual Insurance Company    0.0000   \n",
              "4              4  10052         Chubb National Insurance Company    0.0000   \n",
              "...          ...    ...                                      ...       ...   \n",
              "1358        1353  22667           ACE American Insurance Company   12.5881   \n",
              "1359        1354  23809          Granite State Insurance Company   14.2471   \n",
              "1360        1355  10982            Long Island Insurance Company   25.8860   \n",
              "1361        1356  16535        Zurich American Insurance Company   36.5845   \n",
              "1362        1357  42889         Victoria Fire & Casualty Company  152.9403   \n",
              "\n",
              "      Upheld Complaints Question of Fact Complaints  Not Upheld Complaints  \\\n",
              "0                   0.0                          17                     29   \n",
              "1                   0.0                           9                      8   \n",
              "2                   0.0                           9                      4   \n",
              "3                   0.0                           3                      2   \n",
              "4                   0.0                           1                      2   \n",
              "...                 ...                         ...                    ...   \n",
              "1358                1.0                           0                      3   \n",
              "1359                1.0                           0                      0   \n",
              "1360              265.0                          17                     73   \n",
              "1361                1.0                           0                      1   \n",
              "1362                1.0                           1                      1   \n",
              "\n",
              "     Total Complaints  Premiums Written (in Millions)  Rank  Filing Year  \n",
              "0                  46                         204.173     1         2016  \n",
              "1                  17                          84.769     2         2016  \n",
              "2                  13                          65.335     3         2016  \n",
              "3                   5                          62.505     4         2016  \n",
              "4                   3                          46.735     5         2016  \n",
              "...               ...                             ...   ...          ...  \n",
              "1358                4                           0.079   177         2009  \n",
              "1359                1                           0.070   178         2009  \n",
              "1360              355                          10.237   179         2009  \n",
              "1361                2                           0.027   180         2009  \n",
              "1362                3                           0.007   181         2009  \n",
              "\n",
              "[1358 rows x 11 columns]"
            ],
            "text/html": [
              "\n",
              "  <div id=\"df-c696a1b8-57ce-4083-9b92-0beb74c1765d\">\n",
              "    <div class=\"colab-df-container\">\n",
              "      <div>\n",
              "<style scoped>\n",
              "    .dataframe tbody tr th:only-of-type {\n",
              "        vertical-align: middle;\n",
              "    }\n",
              "\n",
              "    .dataframe tbody tr th {\n",
              "        vertical-align: top;\n",
              "    }\n",
              "\n",
              "    .dataframe thead th {\n",
              "        text-align: right;\n",
              "    }\n",
              "</style>\n",
              "<table border=\"1\" class=\"dataframe\">\n",
              "  <thead>\n",
              "    <tr style=\"text-align: right;\">\n",
              "      <th></th>\n",
              "      <th>Unnamed: 0</th>\n",
              "      <th>NAIC</th>\n",
              "      <th>Company Name</th>\n",
              "      <th>Ratio</th>\n",
              "      <th>Upheld Complaints</th>\n",
              "      <th>Question of Fact Complaints</th>\n",
              "      <th>Not Upheld Complaints</th>\n",
              "      <th>Total Complaints</th>\n",
              "      <th>Premiums Written (in Millions)</th>\n",
              "      <th>Rank</th>\n",
              "      <th>Filing Year</th>\n",
              "    </tr>\n",
              "  </thead>\n",
              "  <tbody>\n",
              "    <tr>\n",
              "      <th>0</th>\n",
              "      <td>0</td>\n",
              "      <td>32786</td>\n",
              "      <td>Progressive Specialty Insurance Company</td>\n",
              "      <td>0.0000</td>\n",
              "      <td>0.0</td>\n",
              "      <td>17</td>\n",
              "      <td>29</td>\n",
              "      <td>46</td>\n",
              "      <td>204.173</td>\n",
              "      <td>1</td>\n",
              "      <td>2016</td>\n",
              "    </tr>\n",
              "    <tr>\n",
              "      <th>1</th>\n",
              "      <td>1</td>\n",
              "      <td>19976</td>\n",
              "      <td>Amica Mutual Insurance Company</td>\n",
              "      <td>0.0000</td>\n",
              "      <td>0.0</td>\n",
              "      <td>9</td>\n",
              "      <td>8</td>\n",
              "      <td>17</td>\n",
              "      <td>84.769</td>\n",
              "      <td>2</td>\n",
              "      <td>2016</td>\n",
              "    </tr>\n",
              "    <tr>\n",
              "      <th>2</th>\n",
              "      <td>2</td>\n",
              "      <td>25453</td>\n",
              "      <td>Nationwide Insurance Company of America</td>\n",
              "      <td>0.0000</td>\n",
              "      <td>0.0</td>\n",
              "      <td>9</td>\n",
              "      <td>4</td>\n",
              "      <td>13</td>\n",
              "      <td>65.335</td>\n",
              "      <td>3</td>\n",
              "      <td>2016</td>\n",
              "    </tr>\n",
              "    <tr>\n",
              "      <th>3</th>\n",
              "      <td>3</td>\n",
              "      <td>15024</td>\n",
              "      <td>Preferred Mutual Insurance Company</td>\n",
              "      <td>0.0000</td>\n",
              "      <td>0.0</td>\n",
              "      <td>3</td>\n",
              "      <td>2</td>\n",
              "      <td>5</td>\n",
              "      <td>62.505</td>\n",
              "      <td>4</td>\n",
              "      <td>2016</td>\n",
              "    </tr>\n",
              "    <tr>\n",
              "      <th>4</th>\n",
              "      <td>4</td>\n",
              "      <td>10052</td>\n",
              "      <td>Chubb National Insurance Company</td>\n",
              "      <td>0.0000</td>\n",
              "      <td>0.0</td>\n",
              "      <td>1</td>\n",
              "      <td>2</td>\n",
              "      <td>3</td>\n",
              "      <td>46.735</td>\n",
              "      <td>5</td>\n",
              "      <td>2016</td>\n",
              "    </tr>\n",
              "    <tr>\n",
              "      <th>...</th>\n",
              "      <td>...</td>\n",
              "      <td>...</td>\n",
              "      <td>...</td>\n",
              "      <td>...</td>\n",
              "      <td>...</td>\n",
              "      <td>...</td>\n",
              "      <td>...</td>\n",
              "      <td>...</td>\n",
              "      <td>...</td>\n",
              "      <td>...</td>\n",
              "      <td>...</td>\n",
              "    </tr>\n",
              "    <tr>\n",
              "      <th>1358</th>\n",
              "      <td>1353</td>\n",
              "      <td>22667</td>\n",
              "      <td>ACE American Insurance Company</td>\n",
              "      <td>12.5881</td>\n",
              "      <td>1.0</td>\n",
              "      <td>0</td>\n",
              "      <td>3</td>\n",
              "      <td>4</td>\n",
              "      <td>0.079</td>\n",
              "      <td>177</td>\n",
              "      <td>2009</td>\n",
              "    </tr>\n",
              "    <tr>\n",
              "      <th>1359</th>\n",
              "      <td>1354</td>\n",
              "      <td>23809</td>\n",
              "      <td>Granite State Insurance Company</td>\n",
              "      <td>14.2471</td>\n",
              "      <td>1.0</td>\n",
              "      <td>0</td>\n",
              "      <td>0</td>\n",
              "      <td>1</td>\n",
              "      <td>0.070</td>\n",
              "      <td>178</td>\n",
              "      <td>2009</td>\n",
              "    </tr>\n",
              "    <tr>\n",
              "      <th>1360</th>\n",
              "      <td>1355</td>\n",
              "      <td>10982</td>\n",
              "      <td>Long Island Insurance Company</td>\n",
              "      <td>25.8860</td>\n",
              "      <td>265.0</td>\n",
              "      <td>17</td>\n",
              "      <td>73</td>\n",
              "      <td>355</td>\n",
              "      <td>10.237</td>\n",
              "      <td>179</td>\n",
              "      <td>2009</td>\n",
              "    </tr>\n",
              "    <tr>\n",
              "      <th>1361</th>\n",
              "      <td>1356</td>\n",
              "      <td>16535</td>\n",
              "      <td>Zurich American Insurance Company</td>\n",
              "      <td>36.5845</td>\n",
              "      <td>1.0</td>\n",
              "      <td>0</td>\n",
              "      <td>1</td>\n",
              "      <td>2</td>\n",
              "      <td>0.027</td>\n",
              "      <td>180</td>\n",
              "      <td>2009</td>\n",
              "    </tr>\n",
              "    <tr>\n",
              "      <th>1362</th>\n",
              "      <td>1357</td>\n",
              "      <td>42889</td>\n",
              "      <td>Victoria Fire &amp; Casualty Company</td>\n",
              "      <td>152.9403</td>\n",
              "      <td>1.0</td>\n",
              "      <td>1</td>\n",
              "      <td>1</td>\n",
              "      <td>3</td>\n",
              "      <td>0.007</td>\n",
              "      <td>181</td>\n",
              "      <td>2009</td>\n",
              "    </tr>\n",
              "  </tbody>\n",
              "</table>\n",
              "<p>1358 rows × 11 columns</p>\n",
              "</div>\n",
              "      <button class=\"colab-df-convert\" onclick=\"convertToInteractive('df-c696a1b8-57ce-4083-9b92-0beb74c1765d')\"\n",
              "              title=\"Convert this dataframe to an interactive table.\"\n",
              "              style=\"display:none;\">\n",
              "        \n",
              "  <svg xmlns=\"http://www.w3.org/2000/svg\" height=\"24px\"viewBox=\"0 0 24 24\"\n",
              "       width=\"24px\">\n",
              "    <path d=\"M0 0h24v24H0V0z\" fill=\"none\"/>\n",
              "    <path d=\"M18.56 5.44l.94 2.06.94-2.06 2.06-.94-2.06-.94-.94-2.06-.94 2.06-2.06.94zm-11 1L8.5 8.5l.94-2.06 2.06-.94-2.06-.94L8.5 2.5l-.94 2.06-2.06.94zm10 10l.94 2.06.94-2.06 2.06-.94-2.06-.94-.94-2.06-.94 2.06-2.06.94z\"/><path d=\"M17.41 7.96l-1.37-1.37c-.4-.4-.92-.59-1.43-.59-.52 0-1.04.2-1.43.59L10.3 9.45l-7.72 7.72c-.78.78-.78 2.05 0 2.83L4 21.41c.39.39.9.59 1.41.59.51 0 1.02-.2 1.41-.59l7.78-7.78 2.81-2.81c.8-.78.8-2.07 0-2.86zM5.41 20L4 18.59l7.72-7.72 1.47 1.35L5.41 20z\"/>\n",
              "  </svg>\n",
              "      </button>\n",
              "      \n",
              "  <style>\n",
              "    .colab-df-container {\n",
              "      display:flex;\n",
              "      flex-wrap:wrap;\n",
              "      gap: 12px;\n",
              "    }\n",
              "\n",
              "    .colab-df-convert {\n",
              "      background-color: #E8F0FE;\n",
              "      border: none;\n",
              "      border-radius: 50%;\n",
              "      cursor: pointer;\n",
              "      display: none;\n",
              "      fill: #1967D2;\n",
              "      height: 32px;\n",
              "      padding: 0 0 0 0;\n",
              "      width: 32px;\n",
              "    }\n",
              "\n",
              "    .colab-df-convert:hover {\n",
              "      background-color: #E2EBFA;\n",
              "      box-shadow: 0px 1px 2px rgba(60, 64, 67, 0.3), 0px 1px 3px 1px rgba(60, 64, 67, 0.15);\n",
              "      fill: #174EA6;\n",
              "    }\n",
              "\n",
              "    [theme=dark] .colab-df-convert {\n",
              "      background-color: #3B4455;\n",
              "      fill: #D2E3FC;\n",
              "    }\n",
              "\n",
              "    [theme=dark] .colab-df-convert:hover {\n",
              "      background-color: #434B5C;\n",
              "      box-shadow: 0px 1px 3px 1px rgba(0, 0, 0, 0.15);\n",
              "      filter: drop-shadow(0px 1px 2px rgba(0, 0, 0, 0.3));\n",
              "      fill: #FFFFFF;\n",
              "    }\n",
              "  </style>\n",
              "\n",
              "      <script>\n",
              "        const buttonEl =\n",
              "          document.querySelector('#df-c696a1b8-57ce-4083-9b92-0beb74c1765d button.colab-df-convert');\n",
              "        buttonEl.style.display =\n",
              "          google.colab.kernel.accessAllowed ? 'block' : 'none';\n",
              "\n",
              "        async function convertToInteractive(key) {\n",
              "          const element = document.querySelector('#df-c696a1b8-57ce-4083-9b92-0beb74c1765d');\n",
              "          const dataTable =\n",
              "            await google.colab.kernel.invokeFunction('convertToInteractive',\n",
              "                                                     [key], {});\n",
              "          if (!dataTable) return;\n",
              "\n",
              "          const docLinkHtml = 'Like what you see? Visit the ' +\n",
              "            '<a target=\"_blank\" href=https://colab.research.google.com/notebooks/data_table.ipynb>data table notebook</a>'\n",
              "            + ' to learn more about interactive tables.';\n",
              "          element.innerHTML = '';\n",
              "          dataTable['output_type'] = 'display_data';\n",
              "          await google.colab.output.renderOutput(dataTable, element);\n",
              "          const docLink = document.createElement('div');\n",
              "          docLink.innerHTML = docLinkHtml;\n",
              "          element.appendChild(docLink);\n",
              "        }\n",
              "      </script>\n",
              "    </div>\n",
              "  </div>\n",
              "  "
            ]
          },
          "metadata": {},
          "execution_count": 16
        }
      ]
    },
    {
      "cell_type": "markdown",
      "source": [
        "Now the data is clear of any duplicates i am now going to check all of the data types"
      ],
      "metadata": {
        "id": "tbEV0Qjj2RMA"
      }
    },
    {
      "cell_type": "code",
      "source": [
        "df.dtypes"
      ],
      "metadata": {
        "colab": {
          "base_uri": "https://localhost:8080/"
        },
        "id": "z2KiJ0UQ0kCf",
        "outputId": "0f6f7b72-1887-44cf-f95f-43538e624b79"
      },
      "execution_count": 17,
      "outputs": [
        {
          "output_type": "execute_result",
          "data": {
            "text/plain": [
              "Unnamed: 0                          int64\n",
              "NAIC                                int64\n",
              "Company Name                       object\n",
              "Ratio                             float64\n",
              "Upheld Complaints                 float64\n",
              "Question of Fact Complaints        object\n",
              "Not Upheld Complaints               int64\n",
              "Total Complaints                   object\n",
              "Premiums Written (in Millions)    float64\n",
              "Rank                                int64\n",
              "Filing Year                         int64\n",
              "dtype: object"
            ]
          },
          "metadata": {},
          "execution_count": 17
        }
      ]
    },
    {
      "cell_type": "code",
      "source": [
        "df[\"Question of Fact Complaints\"] = df[\"Question of Fact Complaints\"].replace('46_', 46)"
      ],
      "metadata": {
        "id": "DEQqF9Nr4aNO"
      },
      "execution_count": 19,
      "outputs": []
    },
    {
      "cell_type": "code",
      "source": [
        "df['Question of Fact Complaints'].astype('int')"
      ],
      "metadata": {
        "colab": {
          "base_uri": "https://localhost:8080/"
        },
        "id": "NXkhDZBp0kAf",
        "outputId": "c6f8f3d0-24aa-4aa5-bdb9-174d8ccc281e"
      },
      "execution_count": 20,
      "outputs": [
        {
          "output_type": "execute_result",
          "data": {
            "text/plain": [
              "0       17\n",
              "1        9\n",
              "2        9\n",
              "3        3\n",
              "4        1\n",
              "        ..\n",
              "1358     0\n",
              "1359     0\n",
              "1360    17\n",
              "1361     0\n",
              "1362     1\n",
              "Name: Question of Fact Complaints, Length: 1358, dtype: int64"
            ]
          },
          "metadata": {},
          "execution_count": 20
        }
      ]
    },
    {
      "cell_type": "code",
      "source": [
        "df.dtypes"
      ],
      "metadata": {
        "colab": {
          "base_uri": "https://localhost:8080/"
        },
        "id": "NARur0jR0j-U",
        "outputId": "6488af19-f66c-44c4-facf-9af95848e954"
      },
      "execution_count": 21,
      "outputs": [
        {
          "output_type": "execute_result",
          "data": {
            "text/plain": [
              "Unnamed: 0                          int64\n",
              "NAIC                                int64\n",
              "Company Name                       object\n",
              "Ratio                             float64\n",
              "Upheld Complaints                 float64\n",
              "Question of Fact Complaints        object\n",
              "Not Upheld Complaints               int64\n",
              "Total Complaints                   object\n",
              "Premiums Written (in Millions)    float64\n",
              "Rank                                int64\n",
              "Filing Year                         int64\n",
              "dtype: object"
            ]
          },
          "metadata": {},
          "execution_count": 21
        }
      ]
    },
    {
      "cell_type": "code",
      "source": [
        "df[\"Total Complaints\"] = df[\"Total Complaints\"].replace('Fifteen', 15)"
      ],
      "metadata": {
        "id": "6339i1kv5J5F"
      },
      "execution_count": 26,
      "outputs": []
    },
    {
      "cell_type": "code",
      "source": [
        "df['Total Complaints'].astype('int')"
      ],
      "metadata": {
        "colab": {
          "base_uri": "https://localhost:8080/"
        },
        "id": "B-nkdQF640kG",
        "outputId": "1be74981-a6de-4349-ad02-a41edc758e9e"
      },
      "execution_count": 27,
      "outputs": [
        {
          "output_type": "execute_result",
          "data": {
            "text/plain": [
              "0        46\n",
              "1        17\n",
              "2        13\n",
              "3         5\n",
              "4         3\n",
              "       ... \n",
              "1358      4\n",
              "1359      1\n",
              "1360    355\n",
              "1361      2\n",
              "1362      3\n",
              "Name: Total Complaints, Length: 1358, dtype: int64"
            ]
          },
          "metadata": {},
          "execution_count": 27
        }
      ]
    },
    {
      "cell_type": "code",
      "source": [
        "df.dtypes"
      ],
      "metadata": {
        "colab": {
          "base_uri": "https://localhost:8080/"
        },
        "id": "CgTYP4m_5V9C",
        "outputId": "830d8581-edcd-4539-9fe8-d3367219c3c8"
      },
      "execution_count": 28,
      "outputs": [
        {
          "output_type": "execute_result",
          "data": {
            "text/plain": [
              "Unnamed: 0                          int64\n",
              "NAIC                                int64\n",
              "Company Name                       object\n",
              "Ratio                             float64\n",
              "Upheld Complaints                 float64\n",
              "Question of Fact Complaints        object\n",
              "Not Upheld Complaints               int64\n",
              "Total Complaints                   object\n",
              "Premiums Written (in Millions)    float64\n",
              "Rank                                int64\n",
              "Filing Year                         int64\n",
              "dtype: object"
            ]
          },
          "metadata": {},
          "execution_count": 28
        }
      ]
    },
    {
      "cell_type": "markdown",
      "source": [
        "After checking all the data types and correcting the incorrect data, Now I will graph the data."
      ],
      "metadata": {
        "id": "lK8as61d5aL8"
      }
    },
    {
      "cell_type": "markdown",
      "source": [
        "Here i am ploting Premiums Written (in Millions) to see how it looks like in a matplot"
      ],
      "metadata": {
        "id": "mqLTtzOG9FH-"
      }
    },
    {
      "cell_type": "code",
      "source": [
        "df['Premiums Written (in Millions)'].hist()"
      ],
      "metadata": {
        "colab": {
          "base_uri": "https://localhost:8080/",
          "height": 282
        },
        "id": "bomISIX45zsP",
        "outputId": "86e874e9-01bf-4937-c551-c50125f9c774"
      },
      "execution_count": 29,
      "outputs": [
        {
          "output_type": "execute_result",
          "data": {
            "text/plain": [
              "<matplotlib.axes._subplots.AxesSubplot at 0x7fd5e0f99510>"
            ]
          },
          "metadata": {},
          "execution_count": 29
        },
        {
          "output_type": "display_data",
          "data": {
            "text/plain": [
              "<Figure size 432x288 with 1 Axes>"
            ],
            "image/png": "[encoded data removed]"
          },
          "metadata": {
            "needs_background": "light"
          }
        }
      ]
    },
    {
      "cell_type": "markdown",
      "source": [
        "Here i am ploting Ratio to see how it looks like in a matplot"
      ],
      "metadata": {
        "id": "MnvGs0rL9S9J"
      }
    },
    {
      "cell_type": "code",
      "source": [
        "df['Ratio'].hist()"
      ],
      "metadata": {
        "colab": {
          "base_uri": "https://localhost:8080/",
          "height": 283
        },
        "id": "U32zvNQV5zqw",
        "outputId": "05d1b7f7-224a-4986-f78c-6684c023b11c"
      },
      "execution_count": 31,
      "outputs": [
        {
          "output_type": "execute_result",
          "data": {
            "text/plain": [
              "<matplotlib.axes._subplots.AxesSubplot at 0x7fd5e07e9ad0>"
            ]
          },
          "metadata": {},
          "execution_count": 31
        },
        {
          "output_type": "display_data",
          "data": {
            "text/plain": [
              "<Figure size 432x288 with 1 Axes>"
            ],
            "image/png": "[encoded data removed]"
          },
          "metadata": {
            "needs_background": "light"
          }
        }
      ]
    },
    {
      "cell_type": "markdown",
      "source": [
        "Here i am ploting filling year with rank to see how it looks like in a box plot"
      ],
      "metadata": {
        "id": "Aqm-wvDY9WRM"
      }
    },
    {
      "cell_type": "code",
      "source": [
        "sns.boxplot(data=df.loc[:, ['Filing Year', 'Rank']], palette = 'BuPu_r')"
      ],
      "metadata": {
        "colab": {
          "base_uri": "https://localhost:8080/",
          "height": 282
        },
        "id": "1KK6Rz_C5zoh",
        "outputId": "21bb1a47-dfea-4819-b241-5ad651dd2596"
      },
      "execution_count": 34,
      "outputs": [
        {
          "output_type": "execute_result",
          "data": {
            "text/plain": [
              "<matplotlib.axes._subplots.AxesSubplot at 0x7fd5e075a990>"
            ]
          },
          "metadata": {},
          "execution_count": 34
        },
        {
          "output_type": "display_data",
          "data": {
            "text/plain": [
              "<Figure size 432x288 with 1 Axes>"
            ],
            "image/png": "[encoded data removed]"
          },
          "metadata": {
            "needs_background": "light"
          }
        }
      ]
    },
    {
      "cell_type": "markdown",
      "source": [
        "Here i am ploting not upheld complaints with NAIC to see how it looks like in a box plot"
      ],
      "metadata": {
        "id": "1QF-7Le49b31"
      }
    },
    {
      "cell_type": "code",
      "source": [
        "sns.boxplot(data=df.loc[:, ['Not Upheld Complaints', 'NAIC']], palette = 'BuPu_r')"
      ],
      "metadata": {
        "colab": {
          "base_uri": "https://localhost:8080/",
          "height": 282
        },
        "id": "1MAER5ed5zmW",
        "outputId": "cf331861-7744-4798-cb2b-7d8af17ca567"
      },
      "execution_count": 35,
      "outputs": [
        {
          "output_type": "execute_result",
          "data": {
            "text/plain": [
              "<matplotlib.axes._subplots.AxesSubplot at 0x7fd5e06d9210>"
            ]
          },
          "metadata": {},
          "execution_count": 35
        },
        {
          "output_type": "display_data",
          "data": {
            "text/plain": [
              "<Figure size 432x288 with 1 Axes>"
            ],
            "image/png": "[encoded data removed]"
          },
          "metadata": {
            "needs_background": "light"
          }
        }
      ]
    }
  ]
}